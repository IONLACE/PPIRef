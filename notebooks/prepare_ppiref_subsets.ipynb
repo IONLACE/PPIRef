{
 "cells": [
  {
   "cell_type": "code",
   "execution_count": 1,
   "metadata": {},
   "outputs": [
    {
     "data": {
      "text/html": [
       "<pre style=\"white-space:pre;overflow-x:auto;line-height:normal;font-family:Menlo,'DejaVu Sans Mono',consolas,'Courier New',monospace\"><span style=\"color: #7fbfbf; text-decoration-color: #7fbfbf\">[02/24/24 15:02:35] </span><span style=\"color: #800000; text-decoration-color: #800000\">WARNING </span> To use the Graphein submodule                                         <a href=\"file:///Users/anton/miniconda3/envs/ppiformer_u/lib/python3.10/site-packages/graphein/protein/features/sequence/embeddings.py\" target=\"_blank\"><span style=\"color: #7f7f7f; text-decoration-color: #7f7f7f\">embeddings.py</span></a><span style=\"color: #7f7f7f; text-decoration-color: #7f7f7f\">:</span><a href=\"file:///Users/anton/miniconda3/envs/ppiformer_u/lib/python3.10/site-packages/graphein/protein/features/sequence/embeddings.py#44\" target=\"_blank\"><span style=\"color: #7f7f7f; text-decoration-color: #7f7f7f\">44</span></a>\n",
       "<span style=\"color: #7fbfbf; text-decoration-color: #7fbfbf\">                    </span>         graphein.protein.features.sequence.embeddings, you need to install:   <span style=\"color: #7f7f7f; text-decoration-color: #7f7f7f\">                </span>\n",
       "<span style=\"color: #7fbfbf; text-decoration-color: #7fbfbf\">                    </span>         biovec                                                                <span style=\"color: #7f7f7f; text-decoration-color: #7f7f7f\">                </span>\n",
       "<span style=\"color: #7fbfbf; text-decoration-color: #7fbfbf\">                    </span>         biovec cannot be installed via conda                                  <span style=\"color: #7f7f7f; text-decoration-color: #7f7f7f\">                </span>\n",
       "<span style=\"color: #7fbfbf; text-decoration-color: #7fbfbf\">                    </span>         Alternatively, you can install graphein with the extras:              <span style=\"color: #7f7f7f; text-decoration-color: #7f7f7f\">                </span>\n",
       "<span style=\"color: #7fbfbf; text-decoration-color: #7fbfbf\">                    </span>                                                                               <span style=\"color: #7f7f7f; text-decoration-color: #7f7f7f\">                </span>\n",
       "<span style=\"color: #7fbfbf; text-decoration-color: #7fbfbf\">                    </span>         pip install graphein<span style=\"font-weight: bold\">[</span>extras<span style=\"font-weight: bold\">]</span>                                          <span style=\"color: #7f7f7f; text-decoration-color: #7f7f7f\">                </span>\n",
       "</pre>\n"
      ],
      "text/plain": [
       "\u001b[2;36m[02/24/24 15:02:35]\u001b[0m\u001b[2;36m \u001b[0m\u001b[31mWARNING \u001b[0m To use the Graphein submodule                                         \u001b]8;id=306288;file:///Users/anton/miniconda3/envs/ppiformer_u/lib/python3.10/site-packages/graphein/protein/features/sequence/embeddings.py\u001b\\\u001b[2membeddings.py\u001b[0m\u001b]8;;\u001b\\\u001b[2m:\u001b[0m\u001b]8;id=914631;file:///Users/anton/miniconda3/envs/ppiformer_u/lib/python3.10/site-packages/graphein/protein/features/sequence/embeddings.py#44\u001b\\\u001b[2m44\u001b[0m\u001b]8;;\u001b\\\n",
       "\u001b[2;36m                    \u001b[0m         graphein.protein.features.sequence.embeddings, you need to install:   \u001b[2m                \u001b[0m\n",
       "\u001b[2;36m                    \u001b[0m         biovec                                                                \u001b[2m                \u001b[0m\n",
       "\u001b[2;36m                    \u001b[0m         biovec cannot be installed via conda                                  \u001b[2m                \u001b[0m\n",
       "\u001b[2;36m                    \u001b[0m         Alternatively, you can install graphein with the extras:              \u001b[2m                \u001b[0m\n",
       "\u001b[2;36m                    \u001b[0m                                                                               \u001b[2m                \u001b[0m\n",
       "\u001b[2;36m                    \u001b[0m         pip install graphein\u001b[1m[\u001b[0mextras\u001b[1m]\u001b[0m                                          \u001b[2m                \u001b[0m\n"
      ]
     },
     "metadata": {},
     "output_type": "display_data"
    },
    {
     "data": {
      "text/html": [
       "<pre style=\"white-space:pre;overflow-x:auto;line-height:normal;font-family:Menlo,'DejaVu Sans Mono',consolas,'Courier New',monospace\"><span style=\"color: #7fbfbf; text-decoration-color: #7fbfbf\">                    </span><span style=\"color: #800000; text-decoration-color: #800000\">WARNING </span> To use the Graphein submodule graphein.protein.visualisation, you  <a href=\"file:///Users/anton/miniconda3/envs/ppiformer_u/lib/python3.10/site-packages/graphein/protein/visualisation.py\" target=\"_blank\"><span style=\"color: #7f7f7f; text-decoration-color: #7f7f7f\">visualisation.py</span></a><span style=\"color: #7f7f7f; text-decoration-color: #7f7f7f\">:</span><a href=\"file:///Users/anton/miniconda3/envs/ppiformer_u/lib/python3.10/site-packages/graphein/protein/visualisation.py#35\" target=\"_blank\"><span style=\"color: #7f7f7f; text-decoration-color: #7f7f7f\">35</span></a>\n",
       "<span style=\"color: #7fbfbf; text-decoration-color: #7fbfbf\">                    </span>         need to install: pytorch3d                                         <span style=\"color: #7f7f7f; text-decoration-color: #7f7f7f\">                   </span>\n",
       "<span style=\"color: #7fbfbf; text-decoration-color: #7fbfbf\">                    </span>         To do so, use the following command: conda install -c pytorch3d    <span style=\"color: #7f7f7f; text-decoration-color: #7f7f7f\">                   </span>\n",
       "<span style=\"color: #7fbfbf; text-decoration-color: #7fbfbf\">                    </span>         pytorch3d                                                          <span style=\"color: #7f7f7f; text-decoration-color: #7f7f7f\">                   </span>\n",
       "</pre>\n"
      ],
      "text/plain": [
       "\u001b[2;36m                   \u001b[0m\u001b[2;36m \u001b[0m\u001b[31mWARNING \u001b[0m To use the Graphein submodule graphein.protein.visualisation, you  \u001b]8;id=177800;file:///Users/anton/miniconda3/envs/ppiformer_u/lib/python3.10/site-packages/graphein/protein/visualisation.py\u001b\\\u001b[2mvisualisation.py\u001b[0m\u001b]8;;\u001b\\\u001b[2m:\u001b[0m\u001b]8;id=686664;file:///Users/anton/miniconda3/envs/ppiformer_u/lib/python3.10/site-packages/graphein/protein/visualisation.py#35\u001b\\\u001b[2m35\u001b[0m\u001b]8;;\u001b\\\n",
       "\u001b[2;36m                    \u001b[0m         need to install: pytorch3d                                         \u001b[2m                   \u001b[0m\n",
       "\u001b[2;36m                    \u001b[0m         To do so, use the following command: conda install -c pytorch3d    \u001b[2m                   \u001b[0m\n",
       "\u001b[2;36m                    \u001b[0m         pytorch3d                                                          \u001b[2m                   \u001b[0m\n"
      ]
     },
     "metadata": {},
     "output_type": "display_data"
    },
    {
     "data": {
      "text/html": [
       "<pre style=\"white-space:pre;overflow-x:auto;line-height:normal;font-family:Menlo,'DejaVu Sans Mono',consolas,'Courier New',monospace\"><span style=\"color: #7fbfbf; text-decoration-color: #7fbfbf\">                    </span><span style=\"color: #800000; text-decoration-color: #800000\">WARNING </span> To use the Graphein submodule graphein.protein.meshes, you need to        <a href=\"file:///Users/anton/miniconda3/envs/ppiformer_u/lib/python3.10/site-packages/graphein/protein/meshes.py\" target=\"_blank\"><span style=\"color: #7f7f7f; text-decoration-color: #7f7f7f\">meshes.py</span></a><span style=\"color: #7f7f7f; text-decoration-color: #7f7f7f\">:</span><a href=\"file:///Users/anton/miniconda3/envs/ppiformer_u/lib/python3.10/site-packages/graphein/protein/meshes.py#29\" target=\"_blank\"><span style=\"color: #7f7f7f; text-decoration-color: #7f7f7f\">29</span></a>\n",
       "<span style=\"color: #7fbfbf; text-decoration-color: #7fbfbf\">                    </span>         install: pytorch3d                                                        <span style=\"color: #7f7f7f; text-decoration-color: #7f7f7f\">            </span>\n",
       "<span style=\"color: #7fbfbf; text-decoration-color: #7fbfbf\">                    </span>         To do so, use the following command: conda install -c pytorch3d pytorch3d <span style=\"color: #7f7f7f; text-decoration-color: #7f7f7f\">            </span>\n",
       "</pre>\n"
      ],
      "text/plain": [
       "\u001b[2;36m                   \u001b[0m\u001b[2;36m \u001b[0m\u001b[31mWARNING \u001b[0m To use the Graphein submodule graphein.protein.meshes, you need to        \u001b]8;id=728937;file:///Users/anton/miniconda3/envs/ppiformer_u/lib/python3.10/site-packages/graphein/protein/meshes.py\u001b\\\u001b[2mmeshes.py\u001b[0m\u001b]8;;\u001b\\\u001b[2m:\u001b[0m\u001b]8;id=770316;file:///Users/anton/miniconda3/envs/ppiformer_u/lib/python3.10/site-packages/graphein/protein/meshes.py#29\u001b\\\u001b[2m29\u001b[0m\u001b]8;;\u001b\\\n",
       "\u001b[2;36m                    \u001b[0m         install: pytorch3d                                                        \u001b[2m            \u001b[0m\n",
       "\u001b[2;36m                    \u001b[0m         To do so, use the following command: conda install -c pytorch3d pytorch3d \u001b[2m            \u001b[0m\n"
      ]
     },
     "metadata": {},
     "output_type": "display_data"
    }
   ],
   "source": [
    "from pathlib import Path\n",
    "\n",
    "import pandas as pd\n",
    "from pandarallel import pandarallel\n",
    "from tqdm import tqdm\n",
    "\n",
    "from ppiref.utils.ppi import PPI\n",
    "from ppiref.split import write_split, read_split, read_fold\n",
    "from ppiref.comparison import IDist\n",
    "from ppiref.definitions import PPIREF_DATA_DIR\n",
    "\n",
    "tqdm.pandas()"
   ]
  },
  {
   "attachments": {},
   "cell_type": "markdown",
   "metadata": {},
   "source": [
    "# All putative PPIs (at least one distance contact) in the PDB"
   ]
  },
  {
   "cell_type": "code",
   "execution_count": 2,
   "metadata": {},
   "outputs": [],
   "source": [
    "dir_ppi = PPIREF_DATA_DIR / 'ppiref/ppi_6A'"
   ]
  },
  {
   "cell_type": "code",
   "execution_count": 3,
   "metadata": {},
   "outputs": [],
   "source": [
    "paths_ppi = [p for p in dir_ppi.rglob('*.pdb')]\n",
    "ids_ppi = [p.stem.split('_')[0] for p in dir_ppi.rglob('*.pdb')]"
   ]
  },
  {
   "cell_type": "code",
   "execution_count": 5,
   "metadata": {},
   "outputs": [],
   "source": [
    "write_split('ppiref_6A_raw', dir_ppi, {'whole': paths_ppi})"
   ]
  },
  {
   "attachments": {},
   "cell_type": "markdown",
   "metadata": {},
   "source": [
    "# Proper PPIs"
   ]
  },
  {
   "cell_type": "code",
   "execution_count": 5,
   "metadata": {},
   "outputs": [
    {
     "data": {
      "text/html": [
       "<div>\n",
       "<style scoped>\n",
       "    .dataframe tbody tr th:only-of-type {\n",
       "        vertical-align: middle;\n",
       "    }\n",
       "\n",
       "    .dataframe tbody tr th {\n",
       "        vertical-align: top;\n",
       "    }\n",
       "\n",
       "    .dataframe thead th {\n",
       "        text-align: right;\n",
       "    }\n",
       "</style>\n",
       "<table border=\"1\" class=\"dataframe\">\n",
       "  <thead>\n",
       "    <tr style=\"text-align: right;\">\n",
       "      <th></th>\n",
       "      <th>PATH</th>\n",
       "      <th>KIND</th>\n",
       "      <th>EXTRACTION RADIUS</th>\n",
       "      <th>EXPANSION RADIUS</th>\n",
       "      <th>RESOLUTION</th>\n",
       "      <th>STRUCTURE METHOD</th>\n",
       "      <th>DEPOSITION DATE</th>\n",
       "      <th>RELEASE DATE</th>\n",
       "      <th>BSA</th>\n",
       "    </tr>\n",
       "  </thead>\n",
       "  <tbody>\n",
       "    <tr>\n",
       "      <th>0</th>\n",
       "      <td>/scratch/project/open-26-23/antonb/PPIRef/ppir...</td>\n",
       "      <td>heavy</td>\n",
       "      <td>6.0</td>\n",
       "      <td>0.0</td>\n",
       "      <td>2.60</td>\n",
       "      <td>x-ray diffraction</td>\n",
       "      <td>2019-08-07</td>\n",
       "      <td>2020-06-17</td>\n",
       "      <td>659.734682</td>\n",
       "    </tr>\n",
       "    <tr>\n",
       "      <th>1</th>\n",
       "      <td>/scratch/project/open-26-23/antonb/PPIRef/ppir...</td>\n",
       "      <td>heavy</td>\n",
       "      <td>6.0</td>\n",
       "      <td>0.0</td>\n",
       "      <td>2.13</td>\n",
       "      <td>x-ray diffraction</td>\n",
       "      <td>2010-12-20</td>\n",
       "      <td>2011-01-19</td>\n",
       "      <td>50.450693</td>\n",
       "    </tr>\n",
       "    <tr>\n",
       "      <th>2</th>\n",
       "      <td>/scratch/project/open-26-23/antonb/PPIRef/ppir...</td>\n",
       "      <td>heavy</td>\n",
       "      <td>6.0</td>\n",
       "      <td>0.0</td>\n",
       "      <td>2.88</td>\n",
       "      <td>electron microscopy</td>\n",
       "      <td>2023-08-02</td>\n",
       "      <td>2023-08-30</td>\n",
       "      <td>3079.544686</td>\n",
       "    </tr>\n",
       "    <tr>\n",
       "      <th>3</th>\n",
       "      <td>/scratch/project/open-26-23/antonb/PPIRef/ppir...</td>\n",
       "      <td>heavy</td>\n",
       "      <td>6.0</td>\n",
       "      <td>0.0</td>\n",
       "      <td>2.20</td>\n",
       "      <td>x-ray diffraction</td>\n",
       "      <td>2014-04-09</td>\n",
       "      <td>2014-07-23</td>\n",
       "      <td>462.436532</td>\n",
       "    </tr>\n",
       "    <tr>\n",
       "      <th>4</th>\n",
       "      <td>/scratch/project/open-26-23/antonb/PPIRef/ppir...</td>\n",
       "      <td>heavy</td>\n",
       "      <td>6.0</td>\n",
       "      <td>0.0</td>\n",
       "      <td>2.20</td>\n",
       "      <td>x-ray diffraction</td>\n",
       "      <td>2019-08-07</td>\n",
       "      <td>2020-01-22</td>\n",
       "      <td>689.826471</td>\n",
       "    </tr>\n",
       "    <tr>\n",
       "      <th>...</th>\n",
       "      <td>...</td>\n",
       "      <td>...</td>\n",
       "      <td>...</td>\n",
       "      <td>...</td>\n",
       "      <td>...</td>\n",
       "      <td>...</td>\n",
       "      <td>...</td>\n",
       "      <td>...</td>\n",
       "      <td>...</td>\n",
       "    </tr>\n",
       "    <tr>\n",
       "      <th>765134</th>\n",
       "      <td>/scratch/project/open-26-23/antonb/PPIRef/ppir...</td>\n",
       "      <td>heavy</td>\n",
       "      <td>6.0</td>\n",
       "      <td>0.0</td>\n",
       "      <td>4.70</td>\n",
       "      <td>x-ray diffraction</td>\n",
       "      <td>2015-01-16</td>\n",
       "      <td>2015-02-04</td>\n",
       "      <td>281.223175</td>\n",
       "    </tr>\n",
       "    <tr>\n",
       "      <th>765135</th>\n",
       "      <td>/scratch/project/open-26-23/antonb/PPIRef/ppir...</td>\n",
       "      <td>heavy</td>\n",
       "      <td>6.0</td>\n",
       "      <td>0.0</td>\n",
       "      <td>2.10</td>\n",
       "      <td>x-ray diffraction</td>\n",
       "      <td>2004-01-08</td>\n",
       "      <td>2004-03-30</td>\n",
       "      <td>887.002861</td>\n",
       "    </tr>\n",
       "    <tr>\n",
       "      <th>765136</th>\n",
       "      <td>/scratch/project/open-26-23/antonb/PPIRef/ppir...</td>\n",
       "      <td>heavy</td>\n",
       "      <td>6.0</td>\n",
       "      <td>0.0</td>\n",
       "      <td>3.20</td>\n",
       "      <td>x-ray diffraction</td>\n",
       "      <td>2011-05-16</td>\n",
       "      <td>2011-08-10</td>\n",
       "      <td>1807.687696</td>\n",
       "    </tr>\n",
       "    <tr>\n",
       "      <th>765137</th>\n",
       "      <td>/scratch/project/open-26-23/antonb/PPIRef/ppir...</td>\n",
       "      <td>heavy</td>\n",
       "      <td>6.0</td>\n",
       "      <td>0.0</td>\n",
       "      <td>3.30</td>\n",
       "      <td>x-ray diffraction</td>\n",
       "      <td>2011-05-16</td>\n",
       "      <td>2011-08-17</td>\n",
       "      <td>1591.343698</td>\n",
       "    </tr>\n",
       "    <tr>\n",
       "      <th>765138</th>\n",
       "      <td>/scratch/project/open-26-23/antonb/PPIRef/ppir...</td>\n",
       "      <td>heavy</td>\n",
       "      <td>6.0</td>\n",
       "      <td>0.0</td>\n",
       "      <td>3.00</td>\n",
       "      <td>x-ray diffraction</td>\n",
       "      <td>2011-05-16</td>\n",
       "      <td>2012-02-01</td>\n",
       "      <td>682.046241</td>\n",
       "    </tr>\n",
       "  </tbody>\n",
       "</table>\n",
       "<p>765139 rows × 9 columns</p>\n",
       "</div>"
      ],
      "text/plain": [
       "                                                     PATH   KIND  \\\n",
       "0       /scratch/project/open-26-23/antonb/PPIRef/ppir...  heavy   \n",
       "1       /scratch/project/open-26-23/antonb/PPIRef/ppir...  heavy   \n",
       "2       /scratch/project/open-26-23/antonb/PPIRef/ppir...  heavy   \n",
       "3       /scratch/project/open-26-23/antonb/PPIRef/ppir...  heavy   \n",
       "4       /scratch/project/open-26-23/antonb/PPIRef/ppir...  heavy   \n",
       "...                                                   ...    ...   \n",
       "765134  /scratch/project/open-26-23/antonb/PPIRef/ppir...  heavy   \n",
       "765135  /scratch/project/open-26-23/antonb/PPIRef/ppir...  heavy   \n",
       "765136  /scratch/project/open-26-23/antonb/PPIRef/ppir...  heavy   \n",
       "765137  /scratch/project/open-26-23/antonb/PPIRef/ppir...  heavy   \n",
       "765138  /scratch/project/open-26-23/antonb/PPIRef/ppir...  heavy   \n",
       "\n",
       "        EXTRACTION RADIUS  EXPANSION RADIUS  RESOLUTION     STRUCTURE METHOD  \\\n",
       "0                     6.0               0.0        2.60    x-ray diffraction   \n",
       "1                     6.0               0.0        2.13    x-ray diffraction   \n",
       "2                     6.0               0.0        2.88  electron microscopy   \n",
       "3                     6.0               0.0        2.20    x-ray diffraction   \n",
       "4                     6.0               0.0        2.20    x-ray diffraction   \n",
       "...                   ...               ...         ...                  ...   \n",
       "765134                6.0               0.0        4.70    x-ray diffraction   \n",
       "765135                6.0               0.0        2.10    x-ray diffraction   \n",
       "765136                6.0               0.0        3.20    x-ray diffraction   \n",
       "765137                6.0               0.0        3.30    x-ray diffraction   \n",
       "765138                6.0               0.0        3.00    x-ray diffraction   \n",
       "\n",
       "       DEPOSITION DATE RELEASE DATE          BSA  \n",
       "0           2019-08-07   2020-06-17   659.734682  \n",
       "1           2010-12-20   2011-01-19    50.450693  \n",
       "2           2023-08-02   2023-08-30  3079.544686  \n",
       "3           2014-04-09   2014-07-23   462.436532  \n",
       "4           2019-08-07   2020-01-22   689.826471  \n",
       "...                ...          ...          ...  \n",
       "765134      2015-01-16   2015-02-04   281.223175  \n",
       "765135      2004-01-08   2004-03-30   887.002861  \n",
       "765136      2011-05-16   2011-08-10  1807.687696  \n",
       "765137      2011-05-16   2011-08-17  1591.343698  \n",
       "765138      2011-05-16   2012-02-01   682.046241  \n",
       "\n",
       "[765139 rows x 9 columns]"
      ]
     },
     "execution_count": 5,
     "metadata": {},
     "output_type": "execute_result"
    }
   ],
   "source": [
    "def ppi_file_to_df_row(path):\n",
    "    ppi = PPI(path)\n",
    "    if path.suffix == '.noppi':\n",
    "        return {}\n",
    "    return {\n",
    "        'PATH': path,\n",
    "        **ppi.stats\n",
    "    }\n",
    "\n",
    "\n",
    "df_path = PPIREF_DATA_DIR / 'ppiref/ppi_6A_stats/raw_stats.csv'\n",
    "\n",
    "# n_workers = 32\n",
    "# pandarallel.initialize(progress_bar=True, use_memory_fs=False, nb_workers=n_workers)\n",
    "# df = pd.Series(paths_ppi).parallel_apply(ppi_file_to_df_row)\n",
    "# df = pd.DataFrame(list(df))\n",
    "# df.to_csv(df_path, index=False)\n",
    "df = pd.read_csv(\n",
    "    df_path,\n",
    "    dtype={'PATH': str, 'KIND': str, 'STRUCTURE METHOD': str}\n",
    ")\n",
    "df = df.dropna(how='all')\n",
    "df"
   ]
  },
  {
   "cell_type": "code",
   "execution_count": 6,
   "metadata": {},
   "outputs": [],
   "source": [
    "df['PASSES FILTERS'] = (\n",
    "    (df['STRUCTURE METHOD'].isin(['x-ray diffraction', 'electron microscopy']))\n",
    "    & (df['RESOLUTION'] <= 3.5)\n",
    "    & (df['BSA'] >= 500)\n",
    ")"
   ]
  },
  {
   "cell_type": "code",
   "execution_count": 7,
   "metadata": {},
   "outputs": [
    {
     "data": {
      "text/html": [
       "<div>\n",
       "<style scoped>\n",
       "    .dataframe tbody tr th:only-of-type {\n",
       "        vertical-align: middle;\n",
       "    }\n",
       "\n",
       "    .dataframe tbody tr th {\n",
       "        vertical-align: top;\n",
       "    }\n",
       "\n",
       "    .dataframe thead th {\n",
       "        text-align: right;\n",
       "    }\n",
       "</style>\n",
       "<table border=\"1\" class=\"dataframe\">\n",
       "  <thead>\n",
       "    <tr style=\"text-align: right;\">\n",
       "      <th></th>\n",
       "      <th>PATH</th>\n",
       "      <th>KIND</th>\n",
       "      <th>EXTRACTION RADIUS</th>\n",
       "      <th>EXPANSION RADIUS</th>\n",
       "      <th>RESOLUTION</th>\n",
       "      <th>STRUCTURE METHOD</th>\n",
       "      <th>DEPOSITION DATE</th>\n",
       "      <th>RELEASE DATE</th>\n",
       "      <th>BSA</th>\n",
       "      <th>PASSES FILTERS</th>\n",
       "    </tr>\n",
       "  </thead>\n",
       "  <tbody>\n",
       "    <tr>\n",
       "      <th>0</th>\n",
       "      <td>/scratch/project/open-26-23/antonb/PPIRef/ppir...</td>\n",
       "      <td>heavy</td>\n",
       "      <td>6.0</td>\n",
       "      <td>0.0</td>\n",
       "      <td>2.60</td>\n",
       "      <td>x-ray diffraction</td>\n",
       "      <td>2019-08-07</td>\n",
       "      <td>2020-06-17</td>\n",
       "      <td>659.734682</td>\n",
       "      <td>True</td>\n",
       "    </tr>\n",
       "    <tr>\n",
       "      <th>2</th>\n",
       "      <td>/scratch/project/open-26-23/antonb/PPIRef/ppir...</td>\n",
       "      <td>heavy</td>\n",
       "      <td>6.0</td>\n",
       "      <td>0.0</td>\n",
       "      <td>2.88</td>\n",
       "      <td>electron microscopy</td>\n",
       "      <td>2023-08-02</td>\n",
       "      <td>2023-08-30</td>\n",
       "      <td>3079.544686</td>\n",
       "      <td>True</td>\n",
       "    </tr>\n",
       "    <tr>\n",
       "      <th>4</th>\n",
       "      <td>/scratch/project/open-26-23/antonb/PPIRef/ppir...</td>\n",
       "      <td>heavy</td>\n",
       "      <td>6.0</td>\n",
       "      <td>0.0</td>\n",
       "      <td>2.20</td>\n",
       "      <td>x-ray diffraction</td>\n",
       "      <td>2019-08-07</td>\n",
       "      <td>2020-01-22</td>\n",
       "      <td>689.826471</td>\n",
       "      <td>True</td>\n",
       "    </tr>\n",
       "    <tr>\n",
       "      <th>10</th>\n",
       "      <td>/scratch/project/open-26-23/antonb/PPIRef/ppir...</td>\n",
       "      <td>heavy</td>\n",
       "      <td>6.0</td>\n",
       "      <td>0.0</td>\n",
       "      <td>3.20</td>\n",
       "      <td>x-ray diffraction</td>\n",
       "      <td>2003-07-25</td>\n",
       "      <td>2003-09-09</td>\n",
       "      <td>1620.549480</td>\n",
       "      <td>True</td>\n",
       "    </tr>\n",
       "    <tr>\n",
       "      <th>14</th>\n",
       "      <td>/scratch/project/open-26-23/antonb/PPIRef/ppir...</td>\n",
       "      <td>heavy</td>\n",
       "      <td>6.0</td>\n",
       "      <td>0.0</td>\n",
       "      <td>3.00</td>\n",
       "      <td>electron microscopy</td>\n",
       "      <td>2021-10-22</td>\n",
       "      <td>2022-02-02</td>\n",
       "      <td>1211.471481</td>\n",
       "      <td>True</td>\n",
       "    </tr>\n",
       "    <tr>\n",
       "      <th>...</th>\n",
       "      <td>...</td>\n",
       "      <td>...</td>\n",
       "      <td>...</td>\n",
       "      <td>...</td>\n",
       "      <td>...</td>\n",
       "      <td>...</td>\n",
       "      <td>...</td>\n",
       "      <td>...</td>\n",
       "      <td>...</td>\n",
       "      <td>...</td>\n",
       "    </tr>\n",
       "    <tr>\n",
       "      <th>765132</th>\n",
       "      <td>/scratch/project/open-26-23/antonb/PPIRef/ppir...</td>\n",
       "      <td>heavy</td>\n",
       "      <td>6.0</td>\n",
       "      <td>0.0</td>\n",
       "      <td>3.20</td>\n",
       "      <td>x-ray diffraction</td>\n",
       "      <td>2011-05-16</td>\n",
       "      <td>2011-08-10</td>\n",
       "      <td>2089.356343</td>\n",
       "      <td>True</td>\n",
       "    </tr>\n",
       "    <tr>\n",
       "      <th>765135</th>\n",
       "      <td>/scratch/project/open-26-23/antonb/PPIRef/ppir...</td>\n",
       "      <td>heavy</td>\n",
       "      <td>6.0</td>\n",
       "      <td>0.0</td>\n",
       "      <td>2.10</td>\n",
       "      <td>x-ray diffraction</td>\n",
       "      <td>2004-01-08</td>\n",
       "      <td>2004-03-30</td>\n",
       "      <td>887.002861</td>\n",
       "      <td>True</td>\n",
       "    </tr>\n",
       "    <tr>\n",
       "      <th>765136</th>\n",
       "      <td>/scratch/project/open-26-23/antonb/PPIRef/ppir...</td>\n",
       "      <td>heavy</td>\n",
       "      <td>6.0</td>\n",
       "      <td>0.0</td>\n",
       "      <td>3.20</td>\n",
       "      <td>x-ray diffraction</td>\n",
       "      <td>2011-05-16</td>\n",
       "      <td>2011-08-10</td>\n",
       "      <td>1807.687696</td>\n",
       "      <td>True</td>\n",
       "    </tr>\n",
       "    <tr>\n",
       "      <th>765137</th>\n",
       "      <td>/scratch/project/open-26-23/antonb/PPIRef/ppir...</td>\n",
       "      <td>heavy</td>\n",
       "      <td>6.0</td>\n",
       "      <td>0.0</td>\n",
       "      <td>3.30</td>\n",
       "      <td>x-ray diffraction</td>\n",
       "      <td>2011-05-16</td>\n",
       "      <td>2011-08-17</td>\n",
       "      <td>1591.343698</td>\n",
       "      <td>True</td>\n",
       "    </tr>\n",
       "    <tr>\n",
       "      <th>765138</th>\n",
       "      <td>/scratch/project/open-26-23/antonb/PPIRef/ppir...</td>\n",
       "      <td>heavy</td>\n",
       "      <td>6.0</td>\n",
       "      <td>0.0</td>\n",
       "      <td>3.00</td>\n",
       "      <td>x-ray diffraction</td>\n",
       "      <td>2011-05-16</td>\n",
       "      <td>2012-02-01</td>\n",
       "      <td>682.046241</td>\n",
       "      <td>True</td>\n",
       "    </tr>\n",
       "  </tbody>\n",
       "</table>\n",
       "<p>349685 rows × 10 columns</p>\n",
       "</div>"
      ],
      "text/plain": [
       "                                                     PATH   KIND  \\\n",
       "0       /scratch/project/open-26-23/antonb/PPIRef/ppir...  heavy   \n",
       "2       /scratch/project/open-26-23/antonb/PPIRef/ppir...  heavy   \n",
       "4       /scratch/project/open-26-23/antonb/PPIRef/ppir...  heavy   \n",
       "10      /scratch/project/open-26-23/antonb/PPIRef/ppir...  heavy   \n",
       "14      /scratch/project/open-26-23/antonb/PPIRef/ppir...  heavy   \n",
       "...                                                   ...    ...   \n",
       "765132  /scratch/project/open-26-23/antonb/PPIRef/ppir...  heavy   \n",
       "765135  /scratch/project/open-26-23/antonb/PPIRef/ppir...  heavy   \n",
       "765136  /scratch/project/open-26-23/antonb/PPIRef/ppir...  heavy   \n",
       "765137  /scratch/project/open-26-23/antonb/PPIRef/ppir...  heavy   \n",
       "765138  /scratch/project/open-26-23/antonb/PPIRef/ppir...  heavy   \n",
       "\n",
       "        EXTRACTION RADIUS  EXPANSION RADIUS  RESOLUTION     STRUCTURE METHOD  \\\n",
       "0                     6.0               0.0        2.60    x-ray diffraction   \n",
       "2                     6.0               0.0        2.88  electron microscopy   \n",
       "4                     6.0               0.0        2.20    x-ray diffraction   \n",
       "10                    6.0               0.0        3.20    x-ray diffraction   \n",
       "14                    6.0               0.0        3.00  electron microscopy   \n",
       "...                   ...               ...         ...                  ...   \n",
       "765132                6.0               0.0        3.20    x-ray diffraction   \n",
       "765135                6.0               0.0        2.10    x-ray diffraction   \n",
       "765136                6.0               0.0        3.20    x-ray diffraction   \n",
       "765137                6.0               0.0        3.30    x-ray diffraction   \n",
       "765138                6.0               0.0        3.00    x-ray diffraction   \n",
       "\n",
       "       DEPOSITION DATE RELEASE DATE          BSA  PASSES FILTERS  \n",
       "0           2019-08-07   2020-06-17   659.734682            True  \n",
       "2           2023-08-02   2023-08-30  3079.544686            True  \n",
       "4           2019-08-07   2020-01-22   689.826471            True  \n",
       "10          2003-07-25   2003-09-09  1620.549480            True  \n",
       "14          2021-10-22   2022-02-02  1211.471481            True  \n",
       "...                ...          ...          ...             ...  \n",
       "765132      2011-05-16   2011-08-10  2089.356343            True  \n",
       "765135      2004-01-08   2004-03-30   887.002861            True  \n",
       "765136      2011-05-16   2011-08-10  1807.687696            True  \n",
       "765137      2011-05-16   2011-08-17  1591.343698            True  \n",
       "765138      2011-05-16   2012-02-01   682.046241            True  \n",
       "\n",
       "[349685 rows x 10 columns]"
      ]
     },
     "execution_count": 7,
     "metadata": {},
     "output_type": "execute_result"
    }
   ],
   "source": [
    "df_filtered = df[df['PASSES FILTERS']]\n",
    "df_filtered"
   ]
  },
  {
   "cell_type": "code",
   "execution_count": 15,
   "metadata": {},
   "outputs": [
    {
     "name": "stderr",
     "output_type": "stream",
     "text": [
      "/scratch/project/open-26-23/antonb/PPIRef/ppiref/split.py:55: UserWarning: Split is not complete: 349685 of 765139 PPIs contained.\n",
      "  warnings.warn(\n"
     ]
    }
   ],
   "source": [
    "paths_ppi_filtered = df_filtered['PATH'].apply(Path).tolist()\n",
    "write_split('ppiref_6A_filtered', dir_ppi, {'whole': paths_ppi_filtered})"
   ]
  },
  {
   "attachments": {},
   "cell_type": "markdown",
   "metadata": {},
   "source": [
    "# Deduplicated (clustered) proper PPIs"
   ]
  },
  {
   "cell_type": "code",
   "execution_count": 10,
   "metadata": {},
   "outputs": [
    {
     "data": {
      "text/plain": [
       "349459"
      ]
     },
     "execution_count": 10,
     "metadata": {},
     "output_type": "execute_result"
    }
   ],
   "source": [
    "idist = IDist()\n",
    "idist.read_embeddings(PPIREF_DATA_DIR / 'ppiref/ppi_6A_stats/idist_emb.csv', dropna=True)  # Embeddings for all filtered PPIs\n",
    "len(idist.embeddings)"
   ]
  },
  {
   "cell_type": "code",
   "execution_count": 13,
   "metadata": {},
   "outputs": [
    {
     "name": "stderr",
     "output_type": "stream",
     "text": [
      "Processing adjacency chunks: 100%|██████████| 911/911 [42:51<00:00,  2.82s/it]\n"
     ]
    }
   ],
   "source": [
    "idist.deduplicate_embeddings()"
   ]
  },
  {
   "cell_type": "code",
   "execution_count": 14,
   "metadata": {},
   "outputs": [
    {
     "data": {
      "text/plain": [
       "51755"
      ]
     },
     "execution_count": 14,
     "metadata": {},
     "output_type": "execute_result"
    }
   ],
   "source": [
    "len(idist.embeddings)"
   ]
  },
  {
   "cell_type": "code",
   "execution_count": 16,
   "metadata": {},
   "outputs": [
    {
     "name": "stderr",
     "output_type": "stream",
     "text": [
      "/scratch/project/open-26-23/antonb/PPIRef/ppiref/split.py:55: UserWarning: Split is not complete: 51755 of 765139 PPIs contained.\n",
      "  warnings.warn(\n"
     ]
    }
   ],
   "source": [
    "write_split('ppiref_6A_filtered_clustered_04', dir_ppi, {'whole': list(idist.embeddings.keys())})"
   ]
  },
  {
   "attachments": {},
   "cell_type": "markdown",
   "metadata": {},
   "source": [
    "# Test results"
   ]
  },
  {
   "cell_type": "code",
   "execution_count": 8,
   "metadata": {},
   "outputs": [
    {
     "name": "stderr",
     "output_type": "stream",
     "text": [
      "                                                                      \r"
     ]
    },
    {
     "name": "stdout",
     "output_type": "stream",
     "text": [
      "ppiref_6A_raw 765139\n"
     ]
    },
    {
     "name": "stderr",
     "output_type": "stream",
     "text": [
      "                                                                      \r"
     ]
    },
    {
     "name": "stdout",
     "output_type": "stream",
     "text": [
      "ppiref_6A_filtered 349685\n"
     ]
    },
    {
     "name": "stderr",
     "output_type": "stream",
     "text": [
      "                                                                      \r"
     ]
    },
    {
     "name": "stdout",
     "output_type": "stream",
     "text": [
      "ppiref_6A_filtered_clustered_04 51755\n"
     ]
    },
    {
     "name": "stderr",
     "output_type": "stream",
     "text": [
      "                                                        \r"
     ]
    }
   ],
   "source": [
    "names = ['ppiref_6A_raw', 'ppiref_6A_filtered', 'ppiref_6A_filtered_clustered_04']\n",
    "for name in names:\n",
    "    ppis = read_fold(name, 'whole')\n",
    "    print(name, len(ppis))\n",
    "    for ppi in tqdm(ppis, leave=False):\n",
    "        assert ppi.exists()"
   ]
  },
  {
   "attachments": {},
   "cell_type": "markdown",
   "metadata": {},
   "source": [
    "# Test EquiDock split"
   ]
  },
  {
   "cell_type": "code",
   "execution_count": 24,
   "metadata": {},
   "outputs": [
    {
     "name": "stderr",
     "output_type": "stream",
     "text": [
      "                                                                      "
     ]
    },
    {
     "name": "stdout",
     "output_type": "stream",
     "text": [
      "0 40143\n"
     ]
    },
    {
     "name": "stderr",
     "output_type": "stream",
     "text": [
      "\r"
     ]
    }
   ],
   "source": [
    "ppis = read_fold('dips_equidock', 'whole')\n",
    "not_existing = [ppi for ppi in ppis if not ppi.exists()]\n",
    "print(len(not_existing), len(ppis))"
   ]
  }
 ],
 "metadata": {
  "kernelspec": {
   "display_name": "Python 3",
   "language": "python",
   "name": "python3"
  },
  "language_info": {
   "codemirror_mode": {
    "name": "ipython",
    "version": 3
   },
   "file_extension": ".py",
   "mimetype": "text/x-python",
   "name": "python",
   "nbconvert_exporter": "python",
   "pygments_lexer": "ipython3",
   "version": "3.10.0"
  },
  "orig_nbformat": 4
 },
 "nbformat": 4,
 "nbformat_minor": 2
}
