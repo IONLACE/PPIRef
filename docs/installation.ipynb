{
 "cells": [
  {
   "attachments": {},
   "cell_type": "markdown",
   "metadata": {},
   "source": [
    "# Installation\n",
    "\n",
    "**Step 1.** If you do not have Python installed, we recommend using the [Miniconda distribution](https://docs.anaconda.com/free/miniconda/). Please install miniconda and create a new environment:\n",
    "```bash\n",
    "conda create -n ppiref python=3.11\n",
    "conda activate ppiref\n",
    "```\n",
    "\n",
    "**Step 2.** Then, you can clone and install the complete PPIRef package by running\n",
    "```bash\n",
    "git clone https://github.com/anton-bushuiev/PPIRef.git\n",
    "cd PPIRef; pip install -e .\n",
    "```\n",
    "Alternatively, if you are not interested in using the complete repository, including datasets, external software (`./external`), scripts (`./scripts`) or tests (`./tests`), you can simply install PPIRef as a package without cloning the repository:\n",
    "```bash\n",
    "pip install git+https://github.com/anton-bushuiev/PPIRef.git\n",
    "```\n",
    "This is suitable when you are using the PPIRef code as a dependency and will only install Python source code and download basic data files (data splits and example files from `ppiref/data`).\n",
    "\n",
    "**Step 3 (optional).** Please see the `PPIRefexternal/README.md` directory or the corresponding documentation in the \"API Reference\" section for the details on how to install the external software for comparing PPIs and calculating buried surface area (BSA)."
   ]
  }
 ],
 "metadata": {
  "language_info": {
   "name": "python"
  },
  "orig_nbformat": 4
 },
 "nbformat": 4,
 "nbformat_minor": 2
}
