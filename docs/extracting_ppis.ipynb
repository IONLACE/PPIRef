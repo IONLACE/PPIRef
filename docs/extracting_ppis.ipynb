{
 "cells": [
  {
   "attachments": {},
   "cell_type": "markdown",
   "metadata": {},
   "source": [
    "# Extracting PPIs\n",
    "\n",
    "The ``ppiref.extraction.PPIExtractor`` class enables extracting protein-protein interactions (PPIs) from PDB files based on inter-atomic distances."
   ]
  },
  {
   "cell_type": "code",
   "execution_count": 2,
   "metadata": {},
   "outputs": [],
   "source": [
    "from ppiref.extraction import PPIExtractor\n",
    "from ppiref.definitions import PPIREF_TEST_DATA_DIR"
   ]
  },
  {
   "attachments": {},
   "cell_type": "markdown",
   "metadata": {},
   "source": [
    "Prepare a .pdb file. In this example, we will use the [1bui.pdb](https://www.rcsb.org/structure/1bui) file from the Protein Data Bank which contains three interacting proteins: staphylokinase (chain C, pink), microplasmin (blue, chain A), and microplasmin (green, chain B). Further we will extract different types of protein-protein interfaces from the file.\n",
    "\n",
    "<p align=\"center\">\n",
    "  <img align=\"center\" width=\"500\" src=\"./_static/images/1bui.png\"/>\n",
    "</p>"
   ]
  },
  {
   "cell_type": "code",
   "execution_count": 3,
   "metadata": {},
   "outputs": [],
   "source": [
    "pdb_file = PPIREF_TEST_DATA_DIR / 'pdb/1bui.pdb'"
   ]
  },
  {
   "attachments": {},
   "cell_type": "markdown",
   "metadata": {},
   "source": [
    "Initialize PPI extractor based on 10A contacts between heavy atoms. Additionally, calculate buried surface area (BSA) of PPIs (slow)."
   ]
  },
  {
   "cell_type": "code",
   "execution_count": 4,
   "metadata": {},
   "outputs": [],
   "source": [
    "ppi_dir = PPIREF_TEST_DATA_DIR / 'ppi_dir'\n",
    "extractor = PPIExtractor(\n",
    "    out_dir=ppi_dir,\n",
    "    kind='heavy',\n",
    "    radius=10.,\n",
    "    bsa=True  # buried surface area calculation is slow\n",
    ")"
   ]
  },
  {
   "attachments": {},
   "cell_type": "markdown",
   "metadata": {},
   "source": [
    "**Example 1.** Extract all contact-based dimeric PPIs from a PDB file. This will extract three interfaces: A-C, A-B, and B-C."
   ]
  },
  {
   "cell_type": "code",
   "execution_count": 5,
   "metadata": {},
   "outputs": [],
   "source": [
    "extractor.extract(pdb_file)"
   ]
  },
  {
   "attachments": {},
   "cell_type": "markdown",
   "metadata": {},
   "source": [
    "**Example 2.** Extract all contact-based dimeric PPIs between a subset of chains from a PDB file. In this example, this will lead to the same result as in Example 1 but may be useful for complexes containing more chains."
   ]
  },
  {
   "cell_type": "code",
   "execution_count": 6,
   "metadata": {},
   "outputs": [],
   "source": [
    "extractor.extract(pdb_file, partners=['A', 'B', 'C'])"
   ]
  },
  {
   "attachments": {},
   "cell_type": "markdown",
   "metadata": {},
   "source": [
    "**Example 3.** Extract a contact-based PPI between two specified chains (dimer)."
   ]
  },
  {
   "cell_type": "code",
   "execution_count": 7,
   "metadata": {},
   "outputs": [],
   "source": [
    "extractor.extract(pdb_file, partners=['A', 'C'])"
   ]
  },
  {
   "attachments": {},
   "cell_type": "markdown",
   "metadata": {},
   "source": [
    "**Example 4.** Extract a contact-based PPI between three specified chains (trimer)."
   ]
  },
  {
   "cell_type": "code",
   "execution_count": 8,
   "metadata": {},
   "outputs": [],
   "source": [
    "ppi_dir = PPIREF_TEST_DATA_DIR / 'ppi_dir'\n",
    "extractor = PPIExtractor(\n",
    "    out_dir=ppi_dir,\n",
    "    join=True  # enables joining all pairwise dimeric interfaces into a single oligomeric interface\n",
    ")\n",
    "extractor.extract(pdb_file, partners=['A', 'B', 'C'])"
   ]
  },
  {
   "attachments": {},
   "cell_type": "markdown",
   "metadata": {},
   "source": [
    "**Example 5.** Extract a complete dimer complex by setting high expansion radius around interface (for example purposes)."
   ]
  },
  {
   "cell_type": "code",
   "execution_count": 9,
   "metadata": {},
   "outputs": [],
   "source": [
    "ppi_complexes_dir = PPIREF_TEST_DATA_DIR / 'ppi_dir_complexes'\n",
    "extractor_complexes = PPIExtractor(\n",
    "    out_dir=ppi_complexes_dir,\n",
    "    kind='heavy',\n",
    "    radius=6.,\n",
    "    expansion_radius=1_000_000.\n",
    ")\n",
    "extractor_complexes.extract(pdb_file, partners=['A', 'C'])"
   ]
  },
  {
   "attachments": {},
   "cell_type": "markdown",
   "metadata": {},
   "source": [
    "**Example 6.** Extract all PPIs from all .pdb files in a directory in parallel."
   ]
  },
  {
   "cell_type": "code",
   "execution_count": 10,
   "metadata": {},
   "outputs": [
    {
     "name": "stderr",
     "output_type": "stream",
     "text": [
      "Collecting input files: 100%|██████████| 8/8 [00:00<00:00, 3921.28it/s]\n",
      "Filtering input files with pattern '.*\\.pdb: 100%|██████████| 8/8 [00:00<00:00, 11052.18it/s]\n",
      "Filtering processed files: 100%|██████████| 8/8 [00:00<00:00, 85163.53it/s]\n",
      "  0%|          | 0/1 [00:00<?, ?it/s]"
     ]
    },
    {
     "name": "stdout",
     "output_type": "stream",
     "text": [
      "[06/21/24 20:33:25] WARNING  To use the Graphein submodule      embeddings.py:34\n",
      "                             graphein.protein.features.sequence                 \n",
      "                             .embeddings, you need to install:                  \n",
      "                             torch                                              \n",
      "                             To do so, use the following                        \n",
      "                             command: conda install -c pytorch                  \n",
      "                             torch                                              \n",
      "                    WARNING  To use the Graphein submodule      embeddings.py:45\n",
      "                             graphein.protein.features.sequence                 \n",
      "                             .embeddings, you need to install:                  \n",
      "                             biovec                                             \n",
      "                             biovec cannot be installed via                     \n",
      "                             conda                                              \n",
      "                             Alternatively, you can install                     \n",
      "                             graphein with the extras:                          \n",
      "                                                                                \n",
      "                             pip install graphein[extras]                       \n",
      "[06/21/24 20:33:26] WARNING  To use the Graphein submodule   visualisation.py:36\n",
      "                             graphein.protein.visualisation,                    \n",
      "                             you need to install: pytorch3d                     \n",
      "                             To do so, use the following                        \n",
      "                             command: conda install -c                          \n",
      "                             pytorch3d pytorch3d                                \n",
      "                    WARNING  To use the Graphein submodule          meshes.py:30\n",
      "                             graphein.protein.meshes, you need to               \n",
      "                             install: pytorch3d                                 \n",
      "                             To do so, use the following command:               \n",
      "                             conda install -c pytorch3d pytorch3d               \n"
     ]
    },
    {
     "name": "stderr",
     "output_type": "stream",
     "text": [
      "100%|██████████| 1/1 [00:06<00:00,  6.26s/it]\n"
     ]
    }
   ],
   "source": [
    "extractor = PPIExtractor(out_dir=ppi_dir, max_workers=2)\n",
    "pdb_dir = PPIREF_TEST_DATA_DIR / 'pdb'\n",
    "extractor.extract_parallel(pdb_dir)"
   ]
  },
  {
   "attachments": {},
   "cell_type": "markdown",
   "metadata": {},
   "source": [
    "Print all the extracted files."
   ]
  },
  {
   "cell_type": "code",
   "execution_count": 11,
   "metadata": {},
   "outputs": [
    {
     "name": "stdout",
     "output_type": "stream",
     "text": [
      "ppi_dir/k3/1k3f_B_D.pdb\n",
      "ppi_dir/k3/1k3f_B_F.pdb\n",
      "ppi_dir/k3/1k3f_D_E.pdb\n",
      "ppi_dir/k3/1k3f_B_C.pdb\n",
      "ppi_dir/k3/1k3f_D_F.pdb\n",
      "ppi_dir/k3/1k3f_C_F.pdb\n",
      "ppi_dir/k3/1k3f_A_D.pdb\n",
      "ppi_dir/k3/1k3f_A_E.pdb\n",
      "ppi_dir/k3/1k3f_C_E.pdb\n",
      "ppi_dir/k3/1k3f_A_B.pdb\n",
      "ppi_dir/k3/1k3f_E_F.pdb\n",
      "ppi_dir/k3/1k3f_A_C.pdb\n",
      "ppi_dir/p7/1p7z_B_D.pdb\n",
      "ppi_dir/p7/1p7z_B_C.pdb\n",
      "ppi_dir/p7/1p7z_C_D.pdb\n",
      "ppi_dir/p7/1p7z_A_D.pdb\n",
      "ppi_dir/p7/1p7z_A_B.pdb\n",
      "ppi_dir/p9/3p9r_B_C.pdb\n",
      "ppi_dir/p9/3p9r_A_C.pdb\n",
      "ppi_dir/p9/3p9r_A_B.pdb\n",
      "ppi_dir/p9/3p9r_C_D.pdb\n",
      "ppi_dir/p9/3p9r_A_D.pdb\n",
      "ppi_dir/0g/10gs_A_B.pdb\n",
      "ppi_dir/a0/1a0n_A_B.pdb\n",
      "ppi_dir/a0/1a02_F_J.pdb\n",
      "ppi_dir/a0/1a02_F_N.pdb\n",
      "ppi_dir/a0/1a02_J_N.pdb\n",
      "ppi_dir/ah/1ahw_A_C.pdb\n",
      "ppi_dir/ah/1ahw_E_F.pdb\n",
      "ppi_dir/ah/1ahw_A_B.pdb\n",
      "ppi_dir/ah/1ahw_A_F.pdb\n",
      "ppi_dir/ah/1ahw_D_F.pdb\n",
      "ppi_dir/ah/1ahw_B_C.pdb\n",
      "ppi_dir/ah/1ahw_D_E.pdb\n",
      "ppi_dir/bu/1bui_A_B_C.pdb\n",
      "ppi_dir/bu/1bui_A_C.pdb\n",
      "ppi_dir/bu/1bui_A_B.pdb\n",
      "ppi_dir/bu/1bui_B_C.pdb\n"
     ]
    }
   ],
   "source": [
    "for path in ppi_dir.rglob('*.pdb'):\n",
    "    print(path.relative_to(ppi_dir.parent))"
   ]
  }
 ],
 "metadata": {
  "kernelspec": {
   "display_name": "ppiref",
   "language": "python",
   "name": "python3"
  },
  "language_info": {
   "codemirror_mode": {
    "name": "ipython",
    "version": 3
   },
   "file_extension": ".py",
   "mimetype": "text/x-python",
   "name": "python",
   "nbconvert_exporter": "python",
   "pygments_lexer": "ipython3",
   "version": "3.9.16"
  },
  "orig_nbformat": 4
 },
 "nbformat": 4,
 "nbformat_minor": 2
}
