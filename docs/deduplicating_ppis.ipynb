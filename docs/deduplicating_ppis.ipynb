{
 "cells": [
  {
   "attachments": {},
   "cell_type": "markdown",
   "metadata": {},
   "source": [
    "# Deduplicating PPIs"
   ]
  },
  {
   "attachments": {},
   "cell_type": "markdown",
   "metadata": {},
   "source": [
    "iDist provides a fast way to compare large sets of protein-protein interactions (PPIs) pairwise. Therefore, the method may by used to deduplicate PPI datasets. This may be crucial to remove redundancy in the data and to avoid bias in downstream analyses or machine learning."
   ]
  },
  {
   "cell_type": "code",
   "execution_count": 2,
   "metadata": {},
   "outputs": [],
   "source": [
    "from ppiref.comparison import IDist\n",
    "from ppiref.definitions import PPIREF_TEST_DATA_DIR\n",
    "\n",
    "# Suppress Graphein log\n",
    "from loguru import logger\n",
    "logger.disable('graphein')"
   ]
  },
  {
   "attachments": {},
   "cell_type": "markdown",
   "metadata": {},
   "source": [
    "In this example, we will reuse the near-duplicate PPIs from the previous tutorial \"Comparing PPIs\" (taken from Figure 1 in the [\"Learning to design protein-protein interactions with enhanced generalization\"](https://arxiv.org/pdf/2310.18515.pdf) paper).\n",
    "\n",
    "<p align=\"center\">\n",
    "  <img width=\"350\" src=\"./_static/images/1p7z_3p9r.png\"/>\n",
    "</p>"
   ]
  },
  {
   "cell_type": "code",
   "execution_count": 3,
   "metadata": {},
   "outputs": [],
   "source": [
    "ppis = [\n",
    "    PPIREF_TEST_DATA_DIR / 'ppi/1p7z_A_C.pdb',\n",
    "    PPIREF_TEST_DATA_DIR / 'ppi/3p9r_B_D.pdb',\n",
    "]"
   ]
  },
  {
   "attachments": {},
   "cell_type": "markdown",
   "metadata": {},
   "source": [
    "Since iDist is based on a simple vectorization of PPIs, it can be used to deduplicate PPIs based on the distance thresholding in the embedding space. The validated threshold used by default is 0.04, suitable for 6A heavy-atom interfaces. Therefore, in the first step, we embed PPIs using iDist."
   ]
  },
  {
   "cell_type": "code",
   "execution_count": 4,
   "metadata": {},
   "outputs": [
    {
     "data": {
      "text/plain": [
       "{'1p7z_A_C': array([0.01731814, 0.00347079, 0.03816472, 0.04164083, 0.02777858,\n",
       "        0.03990269, 0.02775753, 0.03471655, 0.01386247, 0.03121286,\n",
       "        0.00694047, 0.03820259, 0.04857357, 0.0173353 , 0.03992103,\n",
       "        0.02428673, 0.02429712, 0.01386962, 0.00347335, 0.00866032]),\n",
       " '3p9r_B_D': array([0.01904621, 0.00347081, 0.03816642, 0.04163909, 0.02777779,\n",
       "        0.04163979, 0.02775733, 0.03471782, 0.01386243, 0.03121038,\n",
       "        0.00694084, 0.03820353, 0.04857332, 0.01733598, 0.03818163,\n",
       "        0.02428163, 0.02430092, 0.01386946, 0.00347302, 0.00693259])}"
      ]
     },
     "execution_count": 4,
     "metadata": {},
     "output_type": "execute_result"
    }
   ],
   "source": [
    "idist = IDist(max_workers=2)\n",
    "\n",
    "idist.embed(ppis[0])\n",
    "idist.embed(ppis[1])\n",
    "# Or alternatively for large sets:\n",
    "# idist.embed_parallel(ppis)\n",
    "\n",
    "idist.embeddings"
   ]
  },
  {
   "attachments": {},
   "cell_type": "markdown",
   "metadata": {},
   "source": [
    "Deduplicate PPIs. The method removes PPIs that have another PPI embedding closer than the threshold. Only one-side comparison (i.e., `a<->b` but not `b<->a`) is performed, such that representative PPIs are kept."
   ]
  },
  {
   "cell_type": "code",
   "execution_count": 5,
   "metadata": {},
   "outputs": [
    {
     "name": "stderr",
     "output_type": "stream",
     "text": [
      "Processing adjacency chunks: 100%|██████████| 1/1 [00:00<00:00, 487.09it/s]\n"
     ]
    },
    {
     "data": {
      "text/plain": [
       "{'3p9r_B_D': array([0.01904621, 0.00347081, 0.03816642, 0.04163909, 0.02777779,\n",
       "        0.04163979, 0.02775733, 0.03471782, 0.01386243, 0.03121038,\n",
       "        0.00694084, 0.03820353, 0.04857332, 0.01733598, 0.03818163,\n",
       "        0.02428163, 0.02430092, 0.01386946, 0.00347302, 0.00693259])}"
      ]
     },
     "execution_count": 5,
     "metadata": {},
     "output_type": "execute_result"
    }
   ],
   "source": [
    "idist.deduplicate_embeddings()\n",
    "idist.embeddings"
   ]
  }
 ],
 "metadata": {
  "kernelspec": {
   "display_name": "ppiref",
   "language": "python",
   "name": "python3"
  },
  "language_info": {
   "codemirror_mode": {
    "name": "ipython",
    "version": 3
   },
   "file_extension": ".py",
   "mimetype": "text/x-python",
   "name": "python",
   "nbconvert_exporter": "python",
   "pygments_lexer": "ipython3",
   "version": "3.9.16"
  },
  "orig_nbformat": 4
 },
 "nbformat": 4,
 "nbformat_minor": 2
}
